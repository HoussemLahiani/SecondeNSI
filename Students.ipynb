{
 "cells": [
  {
   "cell_type": "markdown",
   "id": "1326be8d",
   "metadata": {},
   "source": [
    "# Lecture d'un fichier CSV avec Pandas"
   ]
  },
  {
   "cell_type": "code",
   "execution_count": 8,
   "id": "977ad225",
   "metadata": {},
   "outputs": [
    {
     "name": "stdout",
     "output_type": "stream",
     "text": [
      "      Nom   Age  MatierePreferee   Note 1   Note 2   Note 3\n",
      "0   Alice    16    Mathematiques       85       92       78\n",
      "1     Bob    17         Histoire       88       76       90\n",
      "2  Claire    16         Sciences       92       95       89\n",
      "3   David    17         Francais       78       84       86\n",
      "4    Emma    16          Anglais       90       91       88\n"
     ]
    }
   ],
   "source": [
    "import pandas as pd\n",
    "# L'URL du fichier CSV en ligne\n",
    "url = 'https://github.com/HoussemLahiani/StructeredData/raw/main/students.csv'\n",
    "# Charger le fichier CSV depuis l'URL dans un DataFrame\n",
    "df = pd.read_csv(url)\n",
    "# Afficher les premières lignes du DataFrame\n",
    "print(df.head())\n"
   ]
  },
  {
   "cell_type": "markdown",
   "id": "f9c76c94",
   "metadata": {},
   "source": [
    "## Filtrage de données avec Pandas"
   ]
  },
  {
   "cell_type": "code",
   "execution_count": 6,
   "id": "538f5d31",
   "metadata": {},
   "outputs": [
    {
     "name": "stdout",
     "output_type": "stream",
     "text": [
      "        Nom   Age  MatierePreferee   Note 1   Note 2   Note 3\n",
      "2    Claire    16         Sciences       92       95       89\n",
      "5    Fabien    18         Physique       92       94       91\n",
      "8  Isabelle    17         Biologie       91       88       90\n"
     ]
    }
   ],
   "source": [
    "import pandas as pd\n",
    "\n",
    "# Charger le fichier CSV dans un DataFrame\n",
    "df = pd.read_csv('https://github.com/HoussemLahiani/StructeredData/raw/main/students.csv')\n",
    "\n",
    "# Filtrer les lignes selon un critère (par exemple, notes supérieures à 90)\n",
    "result = df[df[' Note 1'] > 90]\n",
    "print(result)\n"
   ]
  },
  {
   "cell_type": "markdown",
   "id": "ee819557",
   "metadata": {},
   "source": [
    "## Tri des données avec Pandas"
   ]
  },
  {
   "cell_type": "code",
   "execution_count": 9,
   "id": "54702216",
   "metadata": {},
   "outputs": [
    {
     "name": "stdout",
     "output_type": "stream",
     "text": [
      "        Nom   Age  MatierePreferee   Note 1   Note 2   Note 3\n",
      "0     Alice    16    Mathematiques       85       92       78\n",
      "1       Bob    17         Histoire       88       76       90\n",
      "2    Claire    16         Sciences       92       95       89\n",
      "3     David    17         Francais       78       84       86\n",
      "4      Emma    16          Anglais       90       91       88\n",
      "5    Fabien    18         Physique       92       94       91\n",
      "6   Giselle    17           Chimie       87       89       83\n",
      "7      Hugo    16       Geographie       85       79       88\n",
      "8  Isabelle    17         Biologie       91       88       90\n",
      "9     Jules    18             Arts       80       82       78\n"
     ]
    }
   ],
   "source": [
    "import pandas as pd\n",
    "\n",
    "# Charger le fichier CSV dans un DataFrame\n",
    "df = pd.read_csv('https://github.com/HoussemLahiani/StructeredData/raw/main/students.csv')\n",
    "\n",
    "# Trier les données par colonne (par exemple, par nom)\n",
    "sorted_df = df.sort_values(by='Nom')\n",
    "print(sorted_df)\n"
   ]
  },
  {
   "cell_type": "markdown",
   "id": "ff634a48",
   "metadata": {},
   "source": [
    "## Création d'un graphique avec Pandas (pour la visualisation)"
   ]
  },
  {
   "cell_type": "code",
   "execution_count": 12,
   "id": "605e0710",
   "metadata": {},
   "outputs": [
    {
     "data": {
      "image/png": "[encoded data removed]",
      "text/plain": [
       "<Figure size 640x480 with 1 Axes>"
      ]
     },
     "metadata": {},
     "output_type": "display_data"
    }
   ],
   "source": [
    "import pandas as pd\n",
    "import matplotlib.pyplot as plt\n",
    "\n",
    "# Charger le fichier CSV dans un DataFrame\n",
    "df = pd.read_csv('https://github.com/HoussemLahiani/StructeredData/raw/main/students.csv')\n",
    "\n",
    "# Créer un graphique en barres\n",
    "df.plot(x='Nom', y=' Note 1', kind='bar')\n",
    "plt.xlabel('Noms des étudiants')\n",
    "plt.ylabel('Note 1')\n",
    "plt.title('Notes des étudiants (Note 1)')\n",
    "plt.show()\n"
   ]
  },
  {
   "cell_type": "markdown",
   "id": "e6616069",
   "metadata": {},
   "source": [
    "## Accéder à une valeur spécifique dans un DataFrame pandas depuis un fichier CSV\n",
    "\n",
    "**Assurez-vous de remplacer 'Nom' par le nom de la colonne que vous souhaitez accéder ('Âge', 'Matière préférée', 'Note 1', 'Note 2', 'Note 3' dans votre cas).Notez que les indices commencent généralement à 0 en Python, donc df.loc[0] vous donnera la première ligne, df.loc[1] la deuxième ligne, et ainsi de suite.**"
   ]
  },
  {
   "cell_type": "code",
   "execution_count": 21,
   "id": "040b6f05",
   "metadata": {},
   "outputs": [
    {
     "name": "stdout",
     "output_type": "stream",
     "text": [
      "16\n"
     ]
    }
   ],
   "source": [
    "import pandas as pd\n",
    "\n",
    "# Charger le fichier CSV dans un DataFrame\n",
    "df = pd.read_csv('https://github.com/HoussemLahiani/StructeredData/raw/main/students.csv')\n",
    "\n",
    "# Accéder à la valeur dans la première ligne de la colonne \"Nom\"\n",
    "info = df.loc[0, ' Age']\n",
    "print(info)\n",
    "#Il est possible de récupérer toutes les lignes d'une colonne, il suffit de remplacer la partie \n",
    "#index_ligne\" de \"loc\" par \":\""
   ]
  },
  {
   "cell_type": "markdown",
   "id": "1b374f64",
   "metadata": {},
   "source": [
    "**Le code qui va suivre extraira les valeurs des colonnes 'nom' et 'Age' pour les lignes 0 et 1 de votre DataFrame 'iden'. Vous obtiendrez un sous-ensemble de données contenant les noms et les âges des deux premières lignes de votre DataFrame.**"
   ]
  },
  {
   "cell_type": "code",
   "execution_count": 28,
   "id": "919b16e7",
   "metadata": {},
   "outputs": [
    {
     "name": "stdout",
     "output_type": "stream",
     "text": [
      "     Nom   Age\n",
      "0  Alice    16\n",
      "1    Bob    17\n"
     ]
    }
   ],
   "source": [
    "import pandas\n",
    "iden=pandas.read_csv(\"students.csv\")\n",
    "info = iden.loc[[0, 1], ['Nom',' Age']]\n",
    "print(info)\n"
   ]
  },
  {
   "cell_type": "markdown",
   "id": "019ea850",
   "metadata": {},
   "source": [
    "## Calculer la moyenne des notes pour chaque étudiant"
   ]
  },
  {
   "cell_type": "code",
   "execution_count": 32,
   "id": "99541ac2",
   "metadata": {},
   "outputs": [
    {
     "name": "stdout",
     "output_type": "stream",
     "text": [
      "0    85.000000\n",
      "1    84.666667\n",
      "2    92.000000\n",
      "3    82.666667\n",
      "4    89.666667\n",
      "5    92.333333\n",
      "6    86.333333\n",
      "7    84.000000\n",
      "8    89.666667\n",
      "9    80.000000\n",
      "Name: Moyenne, dtype: float64\n",
      "0                    Alice : 85.0\n",
      "1         Bob : 84.66666666666667\n",
      "2                   Claire : 92.0\n",
      "3       David : 82.66666666666667\n",
      "4        Emma : 89.66666666666667\n",
      "5      Fabien : 92.33333333333333\n",
      "6     Giselle : 86.33333333333333\n",
      "7                     Hugo : 84.0\n",
      "8    Isabelle : 89.66666666666667\n",
      "9                    Jules : 80.0\n",
      "Name: Nom et Moyenne, dtype: object\n"
     ]
    }
   ],
   "source": [
    "import pandas as pd\n",
    "\n",
    "# Charger le fichier CSV dans un DataFrame\n",
    "df = pd.read_csv('https://github.com/HoussemLahiani/StructeredData/raw/main/students.csv')\n",
    "\n",
    "# Calculer la moyenne des notes pour chaque étudiant\n",
    "df['Moyenne'] = df[[' Note 1', ' Note 2', ' Note 3']].mean(axis=1)\n",
    "\n",
    "# Afficher la colonne 'Moyenne'\n",
    "print(df['Moyenne'])\n",
    "\n",
    "# Ajouter le nom de chaque étudiant devant sa moyenne\n",
    "df['Nom et Moyenne'] = df['Nom'] + ' : ' + df['Moyenne'].astype(str)\n",
    "\n",
    "# Afficher la nouvelle colonne 'Nom et Moyenne'\n",
    "print(df['Nom et Moyenne'])"
   ]
  },
  {
   "cell_type": "markdown",
   "id": "25c97930",
   "metadata": {},
   "source": [
    "**La bibliothèque pandas simplifie considérablement la manipulation et l'analyse de données en Python, notamment lorsqu'il s'agit de lire et de traiter des fichiers CSV. Cependant, si vous souhaitez éviter d'utiliser pandas et que vous préférez travailler directement avec Python de manière plus \"brute\", vous pouvez utiliser la fonction open pour lire le fichier CSV et un boucle for pour parcourir les lignes du fichier. Voici comment vous pourriez le faire :**"
   ]
  },
  {
   "cell_type": "code",
   "execution_count": 16,
   "id": "fc2ccdb7",
   "metadata": {},
   "outputs": [
    {
     "name": "stdout",
     "output_type": "stream",
     "text": [
      "{'Nom': ['Alice', 'Bob', 'Claire', 'David', 'Emma', 'Fabien', 'Giselle', 'Hugo', 'Isabelle', 'Jules'], ' Age': [' 16', ' 17', ' 16', ' 17', ' 16', ' 18', ' 17', ' 16', ' 17', ' 18'], ' MatierePreferee': [' Mathematiques', ' Histoire', ' Sciences', ' Francais', ' Anglais', ' Physique', ' Chimie', ' Geographie', ' Biologie', ' Arts'], ' Note 1': [' 85', ' 88', ' 92', ' 78', ' 90', ' 92', ' 87', ' 85', ' 91', ' 80'], ' Note 2': [' 92', ' 76', ' 95', ' 84', ' 91', ' 94', ' 89', ' 79', ' 88', ' 82'], ' Note 3': [' 78', ' 90', ' 89', ' 86', ' 88', ' 91', ' 83', ' 88', ' 90', ' 78']}\n"
     ]
    }
   ],
   "source": [
    "# Ouvrir le fichier CSV en mode lecture\n",
    "with open('students.csv', 'r') as file:\n",
    "    # Lire les lignes du fichier\n",
    "    lines = file.readlines()\n",
    "\n",
    "# Supprimer les caractères de saut de ligne des lignes\n",
    "lines = [line.strip() for line in lines]\n",
    "\n",
    "# Diviser les lignes en listes en utilisant la virgule comme séparateur\n",
    "data = [line.split(',') for line in lines]\n",
    "\n",
    "# Les noms des colonnes sont dans la première ligne\n",
    "columns = data[0]\n",
    "\n",
    "# Les données commencent à la deuxième ligne\n",
    "data = data[1:]\n",
    "\n",
    "# Créer un dictionnaire pour stocker les données\n",
    "data_dict = {column: [] for column in columns}\n",
    "\n",
    "# Remplir le dictionnaire avec les données\n",
    "for row in data:\n",
    "    for i, value in enumerate(row):\n",
    "        data_dict[columns[i]].append(value)\n",
    "\n",
    "# Maintenant, vous avez un dictionnaire contenant les données\n",
    "print(data_dict)\n",
    "\n",
    "# Vous pouvez parcourir les données et effectuer des opérations de traitement ici\n"
   ]
  },
  {
   "cell_type": "code",
   "execution_count": null,
   "id": "fc4e60db",
   "metadata": {},
   "outputs": [],
   "source": []
  }
 ],
 "metadata": {
  "kernelspec": {
   "display_name": "Python 3 (ipykernel)",
   "language": "python",
   "name": "python3"
  },
  "language_info": {
   "codemirror_mode": {
    "name": "ipython",
    "version": 3
   },
   "file_extension": ".py",
   "mimetype": "text/x-python",
   "name": "python",
   "nbconvert_exporter": "python",
   "pygments_lexer": "ipython3",
   "version": "3.9.13"
  }
 },
 "nbformat": 4,
 "nbformat_minor": 5
}
